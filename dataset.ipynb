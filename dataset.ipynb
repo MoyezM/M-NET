{
 "cells": [
  {
   "cell_type": "code",
   "execution_count": 1,
   "metadata": {},
   "outputs": [],
   "source": [
    "import tensorflow as tf\n",
    "import numpy as np\n",
    "import matplotlib.pyplot as plt\n",
    "import matplotlib.image as mpimg"
   ]
  },
  {
   "cell_type": "code",
   "execution_count": 2,
   "metadata": {},
   "outputs": [],
   "source": [
    "image_feature_description  = {\n",
    "    'image/width': tf.io.FixedLenFeature([], tf.int64),\n",
    "    'image/height': tf.io.FixedLenFeature([], tf.int64),\n",
    "    'image/encoded': tf.io.FixedLenFeature([], tf.string),\n",
    "    'image/object/bbox/xmin': tf.io.VarLenFeature(tf.float32),\n",
    "    'image/object/bbox/ymin': tf.io.VarLenFeature(tf.float32),\n",
    "    'image/object/bbox/xmax': tf.io.VarLenFeature(tf.float32),\n",
    "    'image/object/bbox/ymax': tf.io.VarLenFeature(tf.float32),\n",
    "    'image/object/class/label': tf.io.VarLenFeature(tf.int64),\n",
    "}"
   ]
  },
  {
   "cell_type": "code",
   "execution_count": 34,
   "metadata": {},
   "outputs": [],
   "source": [
    "def transform_targets(y_train, anchors, anchor_masks, classes):\n",
    "    y_outs = []\n",
    "    grid_size = 13\n",
    "\n",
    "    # calculate anchor index for true boxes\n",
    "    anchors = tf.cast(anchors, tf.float32)\n",
    "    anchor_area = anchors[..., 0] * anchors[..., 1]\n",
    "    box_wh = y_train[..., 2:4] - y_train[..., 0:2]\n",
    "    box_wh = tf.tile(tf.expand_dims(box_wh, -2),\n",
    "                     (1, 1, tf.shape(anchors)[0], 1))\n",
    "    box_area = box_wh[..., 0] * box_wh[..., 1]\n",
    "    intersection = tf.minimum(box_wh[..., 0], anchors[..., 0]) * \\\n",
    "        tf.minimum(box_wh[..., 1], anchors[..., 1])\n",
    "    iou = intersection / (box_area + anchor_area - intersection)\n",
    "    anchor_idx = tf.cast(tf.argmax(iou, axis=-1), tf.float32)\n",
    "    anchor_idx = tf.expand_dims(anchor_idx, axis=-1)\n",
    "\n",
    "    y_train = tf.concat([y_train, anchor_idx], axis=-1)\n",
    "\n",
    "    for anchor_idxs in anchor_masks:\n",
    "        y_outs.append(transform_targets_for_output(\n",
    "            y_train, grid_size, anchor_idxs, classes))\n",
    "        grid_size *= 2\n",
    "\n",
    "    return tuple(y_outs)"
   ]
  },
  {
   "cell_type": "code",
   "execution_count": 35,
   "metadata": {},
   "outputs": [],
   "source": [
    "@tf.function\n",
    "def transform_targets_for_output(y_true, grid_size, anchor_idxs, classes):\n",
    "    # y_true: (N, boxes, (x1, y1, x2, y2, class, best_anchor))\n",
    "    N = tf.shape(y_true)[0]\n",
    "\n",
    "    # y_true_out: (N, grid, grid, anchors, [x, y, w, h, obj, class])\n",
    "    y_true_out = tf.zeros(\n",
    "        (N, grid_size, grid_size, tf.shape(anchor_idxs)[0], 6))\n",
    "\n",
    "    anchor_idxs = tf.cast(anchor_idxs, tf.int32)\n",
    "\n",
    "    indexes = tf.TensorArray(tf.int32, 1, dynamic_size=True)\n",
    "    updates = tf.TensorArray(tf.float32, 1, dynamic_size=True)\n",
    "    idx = 0\n",
    "    for i in tf.range(N):\n",
    "        for j in tf.range(tf.shape(y_true)[1]):\n",
    "            if tf.equal(y_true[i][j][2], 0):\n",
    "                continue\n",
    "            anchor_eq = tf.equal(\n",
    "                anchor_idxs, tf.cast(y_true[i][j][5], tf.int32))\n",
    "\n",
    "            if tf.reduce_any(anchor_eq):\n",
    "                box = y_true[i][j][0:4]\n",
    "                box_xy = (y_true[i][j][0:2] + y_true[i][j][2:4]) / 2\n",
    "\n",
    "                anchor_idx = tf.cast(tf.where(anchor_eq), tf.int32)\n",
    "                grid_xy = tf.cast(box_xy // (1/grid_size), tf.int32)\n",
    "\n",
    "                # grid[y][x][anchor] = (tx, ty, bw, bh, obj, class)\n",
    "                indexes = indexes.write(\n",
    "                    idx, [i, grid_xy[1], grid_xy[0], anchor_idx[0][0]])\n",
    "                updates = updates.write(\n",
    "                    idx, [box[0], box[1], box[2], box[3], 1, y_true[i][j][4]])\n",
    "                idx += 1\n",
    "\n",
    "    # tf.print(indexes.stack())\n",
    "    # tf.print(updates.stack())\n",
    "\n",
    "    return tf.tensor_scatter_nd_update(\n",
    "        y_true_out, indexes.stack(), updates.stack())"
   ]
  },
  {
   "cell_type": "code",
   "execution_count": 4,
   "metadata": {},
   "outputs": [],
   "source": [
    "def print_img(img):\n",
    "    imgplot = plt.imshow(img.numpy().astype(dtype='uint8'))"
   ]
  },
  {
   "cell_type": "code",
   "execution_count": 33,
   "metadata": {},
   "outputs": [],
   "source": [
    "def transform_images(x_train, size):\n",
    "    x_train = tf.image.resize(x_train, (size, size))\n",
    "    x_train = x_train / 255\n",
    "    return x_train"
   ]
  },
  {
   "cell_type": "code",
   "execution_count": 36,
   "metadata": {},
   "outputs": [],
   "source": [
    "def _parse_image_function(example_proto):\n",
    "    return tf.io.parse_single_example(example_proto, image_feature_description)"
   ]
  },
  {
   "cell_type": "code",
   "execution_count": 25,
   "metadata": {},
   "outputs": [],
   "source": [
    "def parse_tfrecord(example_proto):\n",
    "    x_train = tf.image.decode_jpeg(example_proto['image/encoded'], channels=3)\n",
    "    x_train = tf.image.resize(x_train, (416, 416))\n",
    "\n",
    "    labels = tf.cast(tf.sparse.to_dense(example_proto['image/object/class/label']), tf.float32)\n",
    "\n",
    "    y_train = tf.stack([tf.sparse.to_dense(example_proto['image/object/bbox/xmin']),\n",
    "                        tf.sparse.to_dense(example_proto['image/object/bbox/ymin']),\n",
    "                        tf.sparse.to_dense(example_proto['image/object/bbox/xmax']),\n",
    "                        tf.sparse.to_dense(example_proto['image/object/bbox/ymax']),\n",
    "                        labels]\n",
    "                        , axis=1)\n",
    "\n",
    "    paddings = [[0, 100 - tf.shape(y_train)[0]], [0, 0]]\n",
    "    y_train = tf.pad(y_train, paddings)\n",
    "\n",
    "    return x_train, y_train\n"
   ]
  },
  {
   "cell_type": "code",
   "execution_count": 30,
   "metadata": {},
   "outputs": [],
   "source": [
    "def createDataset(tfrecord_path):\n",
    "    raw_dataset = tf.data.TFRecordDataset(tfrecord_path)\n",
    "    parsed_dataset = raw_dataset.map(_parse_image_function)\n",
    "#     x, y = parsed_dataset.map(parse_tfrecord)\n",
    "\n",
    "    return parsed_dataset.map(lambda x: parse_tfrecord(x))"
   ]
  },
  {
   "cell_type": "code",
   "execution_count": 31,
   "metadata": {},
   "outputs": [],
   "source": []
  },
  {
   "cell_type": "code",
   "execution_count": 32,
   "metadata": {},
   "outputs": [
    {
     "data": {
      "text/plain": [
       "<MapDataset shapes: ((416, 416, 3), (None, 5)), types: (tf.float32, tf.float32)>"
      ]
     },
     "execution_count": 32,
     "metadata": {},
     "output_type": "execute_result"
    }
   ],
   "source": []
  },
  {
   "cell_type": "code",
   "execution_count": null,
   "metadata": {},
   "outputs": [],
   "source": []
  }
 ],
 "metadata": {
  "kernelspec": {
   "display_name": "Python 3",
   "language": "python",
   "name": "python3"
  },
  "language_info": {
   "codemirror_mode": {
    "name": "ipython",
    "version": 3
   },
   "file_extension": ".py",
   "mimetype": "text/x-python",
   "name": "python",
   "nbconvert_exporter": "python",
   "pygments_lexer": "ipython3",
   "version": "3.7.4"
  }
 },
 "nbformat": 4,
 "nbformat_minor": 2
}
