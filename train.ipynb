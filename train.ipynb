{
 "cells": [
  {
   "cell_type": "code",
   "execution_count": 1,
   "metadata": {},
   "outputs": [],
   "source": [
    "import tensorflow as tf\n",
    "import numpy as np\n",
    "import cv2\n",
    "from tensorflow.keras.callbacks import (\n",
    "    ReduceLROnPlateau,\n",
    "    EarlyStopping,\n",
    "    ModelCheckpoint,\n",
    "    TensorBoard\n",
    ")\n",
    "import model as mnet\n",
    "import dataset as dataset"
   ]
  },
  {
   "cell_type": "code",
   "execution_count": 2,
   "metadata": {},
   "outputs": [],
   "source": [
    "train_path = \"D:\\\\Coco\\\\coco_train\"\n",
    "val_path = \"D:\\\\Coco\\\\coco_val\""
   ]
  },
  {
   "cell_type": "code",
   "execution_count": 4,
   "metadata": {},
   "outputs": [
    {
     "ename": "IndentationError",
     "evalue": "unexpected indent (<ipython-input-4-4fc0a8bf905a>, line 31)",
     "output_type": "error",
     "traceback": [
      "\u001b[1;36m  File \u001b[1;32m\"<ipython-input-4-4fc0a8bf905a>\"\u001b[1;36m, line \u001b[1;32m31\u001b[0m\n\u001b[1;33m    callbacks = [\u001b[0m\n\u001b[1;37m    ^\u001b[0m\n\u001b[1;31mIndentationError\u001b[0m\u001b[1;31m:\u001b[0m unexpected indent\n"
     ]
    }
   ],
   "source": [
    "def main(_argv):\n",
    "    model = mnet.MNET_complete(416, training=true)\n",
    "    anchors = mnet.mnet_anchors\n",
    "    anchor_masks = mnet.mnet_anchor_masks\n",
    "    \n",
    "#     Get the training set\n",
    "    train_dataset = dataset.createDataset(train_path)\n",
    "    train_dataset = train_dataset.shuffle(buffer_size=1024)\n",
    "    train_dataset = train_dataset.batch(FLAGS.batch_size)\n",
    "    \n",
    "    train_dataset = train_dataset.map(lambda x, y: (\n",
    "        dataset.transform_images(x, 416),\n",
    "        dataset.transform_targets(y, anchors, anchor_masks, 80)))\n",
    "    \n",
    "    train_dataset = train_dataset.prefetch(\n",
    "        buffer_size=tf.data.experimental.AUTOTUNE)\n",
    "    \n",
    "    \n",
    "    val_path = dataset.createDataset(val_path)\n",
    "    \n",
    "    val_dataset = val_dataset.batch(FLAGS.batch_size)\n",
    "    val_dataset = val_dataset.map(lambda x, y: (\n",
    "        dataset.transform_images(x, 416),\n",
    "        dataset.transform_targets(y, anchors, anchor_masks, 80)))\n",
    "\n",
    "    optimizer = tf.keras.optimizers.Adam(lr = 1e-3)\n",
    "    loss = [mnet.Loss(anchors[mask], classes = 80) for mask in anchor_masks]\n",
    "    \n",
    "    model.compile(optimizer=optimizer, loss=loss, run_eagerly = False)\n",
    "\n",
    "        callbacks = [\n",
    "            ReduceLROnPlateau(verbose=1),\n",
    "            EarlyStopping(patience=3, verbose=1),\n",
    "            ModelCheckpoint('checkpoints/mnet_train_{epoch}.tf',\n",
    "                            verbose=1, save_weights_only=True),\n",
    "            TensorBoard(log_dir='logs')\n",
    "        ]\n",
    "\n",
    "        history = model.fit(train_dataset,\n",
    "                            epochs=FLAGS.epochs,\n",
    "                            callbacks=callbacks,\n",
    "                            validation_data=val_dataset)"
   ]
  },
  {
   "cell_type": "code",
   "execution_count": null,
   "metadata": {},
   "outputs": [],
   "source": [
    "if __name__ == '__main__':\n",
    "    try:\n",
    "        app.run(main)\n",
    "    except SystemExit:\n",
    "        pass\n"
   ]
  }
 ],
 "metadata": {
  "kernelspec": {
   "display_name": "Python 3",
   "language": "python",
   "name": "python3"
  },
  "language_info": {
   "codemirror_mode": {
    "name": "ipython",
    "version": 3
   },
   "file_extension": ".py",
   "mimetype": "text/x-python",
   "name": "python",
   "nbconvert_exporter": "python",
   "pygments_lexer": "ipython3",
   "version": "3.7.4"
  }
 },
 "nbformat": 4,
 "nbformat_minor": 2
}
