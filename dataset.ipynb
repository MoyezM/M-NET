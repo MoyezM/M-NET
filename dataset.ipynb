{
 "cells": [
  {
   "cell_type": "code",
   "execution_count": 1,
   "metadata": {},
   "outputs": [],
   "source": [
    "import tensorflow as tf\n",
    "import numpy as np\n",
    "import matplotlib.pyplot as plt\n",
    "import matplotlib.image as mpimg"
   ]
  },
  {
   "cell_type": "code",
   "execution_count": 2,
   "metadata": {},
   "outputs": [],
   "source": [
    "image_feature_description  = {\n",
    "    'image/width': tf.io.FixedLenFeature([], tf.int64),\n",
    "    'image/height': tf.io.FixedLenFeature([], tf.int64),\n",
    "    'image/encoded': tf.io.FixedLenFeature([], tf.string),\n",
    "    'image/object/bbox/xmin': tf.io.VarLenFeature(tf.float32),\n",
    "    'image/object/bbox/ymin': tf.io.VarLenFeature(tf.float32),\n",
    "    'image/object/bbox/xmax': tf.io.VarLenFeature(tf.float32),\n",
    "    'image/object/bbox/ymax': tf.io.VarLenFeature(tf.float32),\n",
    "    'image/object/class/label': tf.io.VarLenFeature(tf.int64),\n",
    "}"
   ]
  },
  {
   "cell_type": "code",
   "execution_count": 3,
   "metadata": {},
   "outputs": [],
   "source": [
    "def _parse_image_function(example_proto):\n",
    "    return tf.io.parse_single_example(example_proto, image_feature_description)"
   ]
  },
  {
   "cell_type": "code",
   "execution_count": 4,
   "metadata": {},
   "outputs": [],
   "source": [
    "def print_img(img):\n",
    "    imgplot = plt.imshow(img.numpy().astype(dtype='uint8'))"
   ]
  },
  {
   "cell_type": "code",
   "execution_count": 5,
   "metadata": {},
   "outputs": [],
   "source": [
    "def parse_tfrecord(example_proto):\n",
    "    x_train = tf.image.decode_jpeg(example_proto['image/encoded'], channels=3)\n",
    "    x_train = tf.image.resize(x_train, (416, 416))\n",
    "\n",
    "    labels = tf.cast(tf.sparse.to_dense(example_proto['image/object/class/label']), tf.float32)\n",
    "\n",
    "    y_train = tf.stack([tf.sparse.to_dense(example_proto['image/object/bbox/xmin']),\n",
    "                        tf.sparse.to_dense(example_proto['image/object/bbox/ymin']),\n",
    "                        tf.sparse.to_dense(example_proto['image/object/bbox/xmax']),\n",
    "                        tf.sparse.to_dense(example_proto['image/object/bbox/ymax']),\n",
    "                        labels]\n",
    "                        , axis=1)\n",
    "\n",
    "    paddings = [[0, 100 - tf.shape(y_train)[0]], [0, 0]]\n",
    "    y_train = tf.pad(y_train, paddings)\n",
    "    train = {\n",
    "        \"y_train\" : y_train,\n",
    "        \"x_train\" : x_train\n",
    "    }\n",
    "\n",
    "    return train\n"
   ]
  },
  {
   "cell_type": "code",
   "execution_count": 6,
   "metadata": {},
   "outputs": [],
   "source": [
    "def createDataset(tfrecord_path):\n",
    "    raw_dataset = tf.data.TFRecordDataset(tfrecord_path)\n",
    "    parsed_dataset = raw_dataset.map(_parse_image_function)\n",
    "    dataset = parsed_dataset.map(parse_tfrecord)\n",
    "\n",
    "    return dataset"
   ]
  }
 ],
 "metadata": {
  "kernelspec": {
   "display_name": "Python 3",
   "language": "python",
   "name": "python3"
  },
  "language_info": {
   "codemirror_mode": {
    "name": "ipython",
    "version": 3
   },
   "file_extension": ".py",
   "mimetype": "text/x-python",
   "name": "python",
   "nbconvert_exporter": "python",
   "pygments_lexer": "ipython3",
   "version": "3.7.4"
  }
 },
 "nbformat": 4,
 "nbformat_minor": 2
}
