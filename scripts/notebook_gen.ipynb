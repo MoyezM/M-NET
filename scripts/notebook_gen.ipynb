{
 "cells": [
  {
   "cell_type": "code",
   "execution_count": 1,
   "metadata": {},
   "outputs": [],
   "source": [
    "import os\n",
    "import json"
   ]
  },
  {
   "cell_type": "code",
   "execution_count": 2,
   "metadata": {},
   "outputs": [],
   "source": [
    "path = \"C:\\\\Users\\\\Moyez\\\\Desktop\\\\Code\\\\Python\\\\M-NET\"\n",
    "\n",
    "files  = []\n",
    "\n",
    "for r, d, f in os.walk(path):\n",
    "    for file in f:\n",
    "        if (file.find('.ipynb') != -1) and (file.find('checkpoint') == -1):\n",
    "            files.append(((os.path.join(r, file)), file))\n",
    "\n"
   ]
  },
  {
   "cell_type": "code",
   "execution_count": 3,
   "metadata": {},
   "outputs": [],
   "source": [
    "for file, name in files:\n",
    "    print(file)\n",
    "    print(name[:-6])"
   ]
  },
  {
   "cell_type": "code",
   "execution_count": 4,
   "metadata": {},
   "outputs": [],
   "source": [
    "def parse_file(file_json):\n",
    "    file_lines = []\n",
    "    for i in range(len(file_json['cells'])):\n",
    "        cell = file_json['cells'][i]\n",
    "\n",
    "        if 'source' in cell:\n",
    "            for line in cell['source']:\n",
    "                file_lines.append(line)\n",
    "        file_lines.append('\\n')\n",
    "        file_lines.append('\\n')\n",
    "\n",
    "    return file_lines\n"
   ]
  },
  {
   "cell_type": "code",
   "execution_count": 5,
   "metadata": {},
   "outputs": [],
   "source": [
    "for file, name in files:\n",
    "    f = open(file, \"rb\")\n",
    "    contents = f.read()\n",
    "    file = contents.decode()\n",
    "    file_json = json.loads(file)\n",
    "    \n",
    "    parsed_file = parse_file(file_json)\n",
    "    f = open(\"C:\\\\Users\\\\Moyez\\\\Desktop\\\\Code\\\\Python\\\\M-NET\\\\{}.py\".format(name[:-6]), \"w\")\n",
    "    for line in parsed_file:\n",
    "        f.write(line)\n",
    "    f.close()\n",
    "\n"
   ]
  },
  {
   "cell_type": "code",
   "execution_count": null,
   "metadata": {},
   "outputs": [],
   "source": []
  },
  {
   "cell_type": "code",
   "execution_count": null,
   "metadata": {},
   "outputs": [],
   "source": []
  }
 ],
 "metadata": {
  "kernelspec": {
   "display_name": "Python 3",
   "language": "python",
   "name": "python3"
  },
  "language_info": {
   "codemirror_mode": {
    "name": "ipython",
    "version": 3
   },
   "file_extension": ".py",
   "mimetype": "text/x-python",
   "name": "python",
   "nbconvert_exporter": "python",
   "pygments_lexer": "ipython3",
   "version": "3.7.4"
  }
 },
 "nbformat": 4,
 "nbformat_minor": 2
}
