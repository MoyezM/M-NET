{
 "cells": [
  {
   "cell_type": "code",
   "execution_count": 1,
   "metadata": {},
   "outputs": [],
   "source": [
    "import tensorflow as tf\n",
    "from absl import app, flags, logging\n",
    "import numpy as np\n",
    "import cv2\n",
    "from tensorflow.keras.callbacks import (\n",
    "    ReduceLROnPlateau,\n",
    "    EarlyStopping,\n",
    "    ModelCheckpoint,\n",
    "    TensorBoard\n",
    ")\n",
    "import model as mnet\n",
    "import dataset as dataset"
   ]
  },
  {
   "cell_type": "code",
   "execution_count": 2,
   "metadata": {},
   "outputs": [],
   "source": [
    "train_path = \"D:\\\\Coco\\\\coco_train.tfrecord\"\n",
    "val_path = \"D:\\\\Coco\\\\coco_val.tfrecord\""
   ]
  },
  {
   "cell_type": "code",
   "execution_count": 3,
   "metadata": {},
   "outputs": [],
   "source": [
    "def main():\n",
    "    model = mnet.MNET_complete(416, training=True)\n",
    "    anchors = mnet.mnet_anchors\n",
    "    anchor_masks = mnet.mnet_anchor_masks\n",
    "    \n",
    "#     Get the training set\n",
    "    train_dataset = dataset.createDataset(train_path)\n",
    "    train_dataset = train_dataset.shuffle(buffer_size=1024)\n",
    "    train_dataset = train_dataset.batch(2)\n",
    "    \n",
    "    train_dataset = train_dataset.map(lambda x, y: (\n",
    "        dataset.transform_images(x, 416),\n",
    "        dataset.transform_targets(y, anchors, anchor_masks, 80)))\n",
    "    \n",
    "    train_dataset = train_dataset.prefetch(\n",
    "        buffer_size=tf.data.experimental.AUTOTUNE)\n",
    "    \n",
    "    \n",
    "    val_dataset = dataset.createDataset(val_path)\n",
    "    \n",
    "    val_dataset = val_dataset.batch(2)\n",
    "    val_dataset = val_dataset.map(lambda x, y: (\n",
    "        dataset.transform_images(x, 416),\n",
    "        dataset.transform_targets(y, anchors, anchor_masks, 80)))\n",
    "\n",
    "    optimizer = tf.keras.optimizers.Adam(lr = 1e-3)\n",
    "    loss = [mnet.Loss(anchors[mask], classes = 80) for mask in anchor_masks]\n",
    "    \n",
    "    avg_loss = tf.keras.metrics.Mean('loss', dtype=tf.float32)\n",
    "    avg_val_loss = tf.keras.metrics.Mean('val_loss', dtype=tf.float32)\n",
    "\n",
    "    for epoch in range(1, 2 + 1):\n",
    "        for batch, (images, labels) in enumerate(train_dataset):\n",
    "            with tf.GradientTape() as tape:\n",
    "                outputs = model(images, training=True)\n",
    "                regularization_loss = tf.reduce_sum(model.losses)\n",
    "                pred_loss = []\n",
    "                for output, label, loss_fn in zip(outputs, labels, loss):\n",
    "                    pred_loss.append(loss_fn(label, output))\n",
    "                total_loss = tf.reduce_sum(pred_loss) + regularization_loss\n",
    "\n",
    "            grads = tape.gradient(total_loss, model.trainable_variables)\n",
    "            optimizer.apply_gradients(\n",
    "                zip(grads, model.trainable_variables))\n",
    "\n",
    "            logging.info(\"{}_train_{}, {}, {}\".format(\n",
    "                epoch, batch, total_loss.numpy(),\n",
    "                list(map(lambda x: np.sum(x.numpy()), pred_loss))))\n",
    "            avg_loss.update_state(total_loss)\n",
    "\n",
    "        for batch, (images, labels) in enumerate(val_dataset):\n",
    "            outputs = model(images)\n",
    "            regularization_loss = tf.reduce_sum(model.losses)\n",
    "            pred_loss = []\n",
    "            for output, label, loss_fn in zip(outputs, labels, loss):\n",
    "                pred_loss.append(loss_fn(label, output))\n",
    "            total_loss = tf.reduce_sum(pred_loss) + regularization_loss\n",
    "\n",
    "            logging.info(\"{}_val_{}, {}, {}\".format(\n",
    "                epoch, batch, total_loss.numpy(),\n",
    "                list(map(lambda x: np.sum(x.numpy()), pred_loss))))\n",
    "            avg_val_loss.update_state(total_loss)\n",
    "\n",
    "        logging.info(\"{}, train: {}, val: {}\".format(\n",
    "            epoch,\n",
    "            avg_loss.result().numpy(),\n",
    "            avg_val_loss.result().numpy()))\n",
    "\n",
    "        avg_loss.reset_states()\n",
    "        avg_val_loss.reset_states()\n",
    "        model.save_weights(\n",
    "            'checkpoints/yolov3_train_{}.tf'.format(epoch))\n",
    "\n",
    "\n"
   ]
  },
  {
   "cell_type": "code",
   "execution_count": null,
   "metadata": {},
   "outputs": [],
   "source": [
    "main()"
   ]
  },
  {
   "cell_type": "code",
   "execution_count": null,
   "metadata": {},
   "outputs": [],
   "source": []
  }
 ],
 "metadata": {
  "kernelspec": {
   "display_name": "Python 3",
   "language": "python",
   "name": "python3"
  },
  "language_info": {
   "codemirror_mode": {
    "name": "ipython",
    "version": 3
   },
   "file_extension": ".py",
   "mimetype": "text/x-python",
   "name": "python",
   "nbconvert_exporter": "python",
   "pygments_lexer": "ipython3",
   "version": "3.7.4"
  }
 },
 "nbformat": 4,
 "nbformat_minor": 2
}
